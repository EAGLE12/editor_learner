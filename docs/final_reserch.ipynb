{
 "cells": [
  {
   "cell_type": "markdown",
   "metadata": {
    "toc": true
   },
   "source": [
    "<h1>Table of Contents<span class=\"tocSkip\"></span></h1>\n",
    "<div class=\"toc\" style=\"margin-top: 1em;\"><ul class=\"toc-item\"><li><span><a href=\"#はじめに\" data-toc-modified-id=\"はじめに-1\"><span class=\"toc-item-num\">1&nbsp;&nbsp;</span>はじめに</a></span><ul class=\"toc-item\"><li><span><a href=\"#研究の目的\" data-toc-modified-id=\"研究の目的-1.1\"><span class=\"toc-item-num\">1.1&nbsp;&nbsp;</span>研究の目的</a></span></li><li><span><a href=\"#Emacs\" data-toc-modified-id=\"Emacs-1.2\"><span class=\"toc-item-num\">1.2&nbsp;&nbsp;</span>Emacs</a></span></li><li><span><a href=\"#研究の動機\" data-toc-modified-id=\"研究の動機-1.3\"><span class=\"toc-item-num\">1.3&nbsp;&nbsp;</span>研究の動機</a></span></li><li><span><a href=\"#動作環境\" data-toc-modified-id=\"動作環境-1.4\"><span class=\"toc-item-num\">1.4&nbsp;&nbsp;</span>動作環境</a></span></li></ul></li><li><span><a href=\"#基本的事項\" data-toc-modified-id=\"基本的事項-2\"><span class=\"toc-item-num\">2&nbsp;&nbsp;</span>基本的事項</a></span><ul class=\"toc-item\"><li><span><a href=\"#Ruby\" data-toc-modified-id=\"Ruby-2.1\"><span class=\"toc-item-num\">2.1&nbsp;&nbsp;</span>Ruby</a></span></li><li><span><a href=\"#Keybind\" data-toc-modified-id=\"Keybind-2.2\"><span class=\"toc-item-num\">2.2&nbsp;&nbsp;</span>Keybind</a></span></li><li><span><a href=\"#使用したgemファイル\" data-toc-modified-id=\"使用したgemファイル-2.3\"><span class=\"toc-item-num\">2.3&nbsp;&nbsp;</span>使用したgemファイル</a></span><ul class=\"toc-item\"><li><span><a href=\"#diff-lcs\" data-toc-modified-id=\"diff-lcs-2.3.1\"><span class=\"toc-item-num\">2.3.1&nbsp;&nbsp;</span>diff-lcs</a></span></li><li><span><a href=\"#Thor\" data-toc-modified-id=\"Thor-2.3.2\"><span class=\"toc-item-num\">2.3.2&nbsp;&nbsp;</span>Thor</a></span></li><li><span><a href=\"#Minitest\" data-toc-modified-id=\"Minitest-2.3.3\"><span class=\"toc-item-num\">2.3.3&nbsp;&nbsp;</span>Minitest</a></span></li><li><span><a href=\"#FileUtils\" data-toc-modified-id=\"FileUtils-2.3.4\"><span class=\"toc-item-num\">2.3.4&nbsp;&nbsp;</span>FileUtils</a></span></li><li><span><a href=\"#open3\" data-toc-modified-id=\"open3-2.3.5\"><span class=\"toc-item-num\">2.3.5&nbsp;&nbsp;</span>open3</a></span></li></ul></li><li><span><a href=\"#Bundler\" data-toc-modified-id=\"Bundler-2.4\"><span class=\"toc-item-num\">2.4&nbsp;&nbsp;</span>Bundler</a></span><ul class=\"toc-item\"><li><span><a href=\"#Rubocop\" data-toc-modified-id=\"Rubocop-2.4.1\"><span class=\"toc-item-num\">2.4.1&nbsp;&nbsp;</span>Rubocop</a></span></li></ul></li><li><span><a href=\"#Editor_learneの使用方法\" data-toc-modified-id=\"Editor_learneの使用方法-2.5\"><span class=\"toc-item-num\">2.5&nbsp;&nbsp;</span>Editor_learneの使用方法</a></span><ul class=\"toc-item\"><li><span><a href=\"#Installation\" data-toc-modified-id=\"Installation-2.5.1\"><span class=\"toc-item-num\">2.5.1&nbsp;&nbsp;</span>Installation</a></span><ul class=\"toc-item\"><li><span><a href=\"#githubによるinstall\" data-toc-modified-id=\"githubによるinstall-2.5.1.1\"><span class=\"toc-item-num\">2.5.1.1&nbsp;&nbsp;</span>githubによるinstall</a></span></li><li><span><a href=\"#gemによるinstall\" data-toc-modified-id=\"gemによるinstall-2.5.1.2\"><span class=\"toc-item-num\">2.5.1.2&nbsp;&nbsp;</span>gemによるinstall</a></span></li></ul></li><li><span><a href=\"#初期設定\" data-toc-modified-id=\"初期設定-2.5.2\"><span class=\"toc-item-num\">2.5.2&nbsp;&nbsp;</span>初期設定</a></span></li><li><span><a href=\"#delete\" data-toc-modified-id=\"delete-2.5.3\"><span class=\"toc-item-num\">2.5.3&nbsp;&nbsp;</span>delete</a></span></li><li><span><a href=\"#random_h.rbとsequential_h.rb\" data-toc-modified-id=\"random_h.rbとsequential_h.rb-2.5.4\"><span class=\"toc-item-num\">2.5.4&nbsp;&nbsp;</span>random_h.rbとsequential_h.rb</a></span></li><li><span><a href=\"#random_checkの仕様\" data-toc-modified-id=\"random_checkの仕様-2.5.5\"><span class=\"toc-item-num\">2.5.5&nbsp;&nbsp;</span>random_checkの仕様</a></span></li><li><span><a href=\"#sequential_checkの仕様\" data-toc-modified-id=\"sequential_checkの仕様-2.5.6\"><span class=\"toc-item-num\">2.5.6&nbsp;&nbsp;</span>sequential_checkの仕様</a></span></li></ul></li></ul></li><li><span><a href=\"#実装コードの解説\" data-toc-modified-id=\"実装コードの解説-3\"><span class=\"toc-item-num\">3&nbsp;&nbsp;</span>実装コードの解説</a></span><ul class=\"toc-item\"><li><span><a href=\"#起動時のプログラム\" data-toc-modified-id=\"起動時のプログラム-3.1\"><span class=\"toc-item-num\">3.1&nbsp;&nbsp;</span>起動時のプログラム</a></span></li><li><span><a href=\"#delete\" data-toc-modified-id=\"delete-3.2\"><span class=\"toc-item-num\">3.2&nbsp;&nbsp;</span>delete</a></span></li><li><span><a href=\"#random_check\" data-toc-modified-id=\"random_check-3.3\"><span class=\"toc-item-num\">3.3&nbsp;&nbsp;</span>random_check</a></span></li><li><span><a href=\"#sequential_check\" data-toc-modified-id=\"sequential_check-3.4\"><span class=\"toc-item-num\">3.4&nbsp;&nbsp;</span>sequential_check</a></span></li><li><span><a href=\"#open_terminal\" data-toc-modified-id=\"open_terminal-3.5\"><span class=\"toc-item-num\">3.5&nbsp;&nbsp;</span>open_terminal</a></span></li></ul></li><li><span><a href=\"#総括\" data-toc-modified-id=\"総括-4\"><span class=\"toc-item-num\">4&nbsp;&nbsp;</span>総括</a></span></li></ul></div>"
   ]
  },
  {
   "cell_type": "markdown",
   "metadata": {},
   "source": [
    "# はじめに"
   ]
  },
  {
   "cell_type": "markdown",
   "metadata": {},
   "source": [
    "## 研究の目的"
   ]
  },
  {
   "cell_type": "markdown",
   "metadata": {
    "collapsed": true
   },
   "source": [
    "Editor_learnerの大きな目的はEditor(Emacs)操作の習熟，タイピング速度の向上，CUI操作への適応である．これら全てはプログラマにとって作業を効率化させるだけでなく，プログラマとしての質の向上にも繋がる．"
   ]
  },
  {
   "cell_type": "markdown",
   "metadata": {},
   "source": [
    "## Emacs"
   ]
  },
  {
   "cell_type": "markdown",
   "metadata": {},
   "source": [
    "本研究において使用するEditorはEmacsである．ツールはプログラマ自身の手の延長である．これは他のどのようなソフトウェアツールよりもEditorに対して当てはまる．テキストはプログラミングにおける最も基本的な生素材なので，できる限り簡単に操作できる必要があります．[1]そこで西谷研究室で勧められているEmacsの機能については以下の通りである，\n",
    "\n",
    "1. 設定可能である．　フォント，色，ウィンドウサイズ，キーバインドを含めた全ての外見が好みに応じて設定できるようになっていること．通常の操作がキーストロークだけで行えると，手をキーボードから離す必要がなくなり，結果的にマウスやメニュー駆動型のコマンドよりも効率的に操作できるようになります\n",
    "1. 拡張性がある．　新しいプログラミング言語が出てきただけで，使い物にならなくなるようなエディタではなく，どんな新しい言語やテキスト形式が出てきたとしても，その言語の意味合いを「教え込む」ことが可能です\n",
    "1. プログラム可能であること．　込み入った複数の手順を実行できるよう，Editorはプログラム可能であることが必須である.\n",
    "\n",
    "これらの機能は本来エディタが持つべき基本的な機能である．これらに加えてEmacsは，\n",
    "\n",
    "1. 構文のハイライト　Rubyの構文にハイライトを入れたい場合はファイル名の後に.rbと入れることでRubyモードに切り替わり構文にハイライトを入れることが可能になる．\n",
    "1. 自動インデント．　テキストを編集する際，改行時に自動的にスペースやタブなどを入力しインデント調整を行ってくれる．\n",
    "\n",
    "などのプログラミング言語に特化した特徴を備えています．強力なEditorを習熟することは生産性を高めることに他ならない．カーソルの移動にしても，１回のキー入力で単語単位，行単位，ブロック単位，関数単位でカーソルを移動させることができれば，一文字ずつ，あるいは一行ずつ繰り返してキー入力を行う場合とは効率が大きく変わってきます．なので一つEditorを習熟するならEmacsをお勧めします．"
   ]
  },
  {
   "cell_type": "markdown",
   "metadata": {},
   "source": [
    "## 研究の動機"
   ]
  },
  {
   "cell_type": "markdown",
   "metadata": {},
   "source": [
    "西谷研究室では正しい運指によるタッチタイピングやEditor操作の習熟に重点を置いている．なぜなら，プログラマにおいてタッチタイピングを習得していないということは，ペアプログラミングにおいて作業の効率の下落の原因になりかねないからである．Editor操作の習熟も同じであり，全ての操作をキーボード上(CUI)で行うことができると作業の効率は非常に上がるからである．そこで，初めはタイピングに特化したプログラムを作成しようと考えたが，タイピングに特化したものはWeb上に大量に転がっていて，類似したようなものを作っても意味がないと感じた．そこで，プログラムのタイピングができ，かつEditor操作の習熟も可能なソフトを開発しようと考えた．"
   ]
  },
  {
   "cell_type": "markdown",
   "metadata": {},
   "source": [
    "## 動作環境"
   ]
  },
  {
   "cell_type": "markdown",
   "metadata": {},
   "source": [
    "Rubyのversionが2.4.0以上でなければ，動作しない．理由としては，gemでinstallした際にgemの"
   ]
  },
  {
   "cell_type": "markdown",
   "metadata": {
    "collapsed": true
   },
   "source": [
    "# 基本的事項"
   ]
  },
  {
   "cell_type": "markdown",
   "metadata": {},
   "source": [
    "## Ruby\n",
    "\n",
    "Rubyはまつもとゆきひろにより開発されたオブジェクト指向スクリプト言語であり，スクリプト言語が用いられてきた領域でのオブジェクト指向プログラミングを実現する言語である．[]本研究はRuby言語を使用しています．"
   ]
  },
  {
   "cell_type": "markdown",
   "metadata": {},
   "source": [
    "## Keybind\n",
    "\n",
    "Keybindは，押下するキー(単独キーまたは複数キーの組み合わせ)と，実行される機能との対応関係のことである．また，キーを押下したときに実行させる機能を割り当てる行為のことである．[]以下controlを押しながらをc-と記述する．"
   ]
  },
  {
   "cell_type": "markdown",
   "metadata": {},
   "source": [
    "## 使用したgemファイル"
   ]
  },
  {
   "cell_type": "markdown",
   "metadata": {},
   "source": [
    "### diff-lcs"
   ]
  },
  {
   "cell_type": "markdown",
   "metadata": {},
   "source": [
    "diff-lcsは二つのファイルの差分を求めて出力してくれる．テキストの差分を取得するメソッドは,Diff::LCS.sdiff と Diff::LCS.diff の２つがある.複数行の文字列を比較した場合の２つのメソッドの違いは以下のとおり.\n",
    "\n",
    "1. Diff::LCS.sdiff\n",
    "   比較結果を１文字ずつ表示する\n",
    "2. Diff::LCS.diff\n",
    "   比較した結果，違いがあった行について，違いがあった箇所のみ表示する．\n",
    "     \n",
    "今回使用したのは後者である．理由は間違った部分だけを表示した方が見やすいと考えたからである．"
   ]
  },
  {
   "cell_type": "markdown",
   "metadata": {},
   "source": [
    "### Thor"
   ]
  },
  {
   "cell_type": "markdown",
   "metadata": {},
   "source": [
    "Thorは，コマンドラインツールの作成を支援するライブラリです．gitやbundlerのようなサブコマンドツールを簡単に作成することができます．Thorの使用で容易にサブコマンドを直感的に覚えやすくした．"
   ]
  },
  {
   "cell_type": "markdown",
   "metadata": {},
   "source": [
    "### Minitest"
   ]
  },
  {
   "cell_type": "markdown",
   "metadata": {},
   "source": [
    "Minitestはテストを自動化するためのテスト用のフレームワークである．Rubyにはいくつかのテスティングフレームワークがありますが，Minitestというフレームワークを利用した理由は以下の通りです．\n",
    "\n",
    "1. Rubyをインストールすると一緒にインストールされるため，特別なセットアップが不要．\n",
    "1. 学習コストが比較的低い．\n",
    "1. Railsのデフォルトのテスティングフレームワークなので，Railsを開発するときにも知識を活かしやすい．"
   ]
  },
  {
   "cell_type": "markdown",
   "metadata": {},
   "source": [
    "### FileUtils"
   ]
  },
  {
   "cell_type": "markdown",
   "metadata": {},
   "source": [
    "再帰的な削除などの基本的なファイル操作を行うためのライブラリ"
   ]
  },
  {
   "cell_type": "markdown",
   "metadata": {},
   "source": [
    "### open3"
   ]
  },
  {
   "cell_type": "markdown",
   "metadata": {},
   "source": [
    "プログラムを実行し，そのプロセスの標準出力，標準入力，標準エラー出力にパイプをつなぐためのものである．"
   ]
  },
  {
   "cell_type": "markdown",
   "metadata": {},
   "source": [
    "## Bundler\n",
    "\n",
    "Bundlerはアプリケーション谷で依存するgemパッケージを管理するためのツールです．１つのシステム上で複数のアプリケーションを開発する場合や，デプロイ時にアプリケーションに紐付けてgemパッケージを管理したい場合に利用される．"
   ]
  },
  {
   "cell_type": "markdown",
   "metadata": {},
   "source": [
    "### Rubocop\n",
    "\n",
    "RubocopはRubyのソースコード解析ツールである．Rubyスタイルガイドや他のスタイルガイドに準拠しているかどうかを自動チェックしてくれるソフトウェアです．自分が打ち込んだ問題文となるソースコードのチェックに使用しました．[]"
   ]
  },
  {
   "cell_type": "markdown",
   "metadata": {},
   "source": [
    "## Editor_learneの使用方法"
   ]
  },
  {
   "cell_type": "markdown",
   "metadata": {},
   "source": [
    "### Installation\n",
    "\n",
    "#### githubによるinstall\n",
    "githubによるインストール方法は以下の通りである．\n",
    "1. \"https://github.com/souki1103/editor_learner\" へアクセス\n",
    "1. Clone or downloadを押下，SSHのURLをコピー\n",
    "1. コマンドラインにてgit clone [コピーしたURL]を行う\n",
    "   \n",
    "上記の手順で開発したファイルがそのまま自分のディレクトリにインストールされる．\n",
    "\n",
    "#### gemによるinstall\n",
    "gemによるインストール方法は以下の通りである．\n",
    "1. コマンドラインにてgem install editor_learnerと入力，実行\n",
    "1. ファイルが自分の.rbenv/versions/2.4.0/lib/ruby/gems/2.4.0/gemsにeditor_learnerが収納される\n",
    "\n",
    "これでeditor_learnerとコマンドラインで入力することで実行可能となる．"
   ]
  },
  {
   "cell_type": "markdown",
   "metadata": {},
   "source": [
    "### 初期設定"
   ]
  },
  {
   "cell_type": "markdown",
   "metadata": {},
   "source": [
    "特別な初期設定はほとんどないが起動方法は以下の通りである，\n",
    "\n",
    "1. コマンドライン上にてeditor_learnerを入力する．\n",
    "    2. editor_learnerを起動することでホームディレクトリにeditor_learner/workshopと呼ばれるファイルが作成される．workshopは作業場という意味である．\n",
    "    2. workshopの中にquestion.rbとanswer.rb，random_h.rbとruby_1~ruby_6が作成され，ruby_1~ruby_6の中に1.rb~3.rbが作成されていることを確認する．\n",
    "    [画像添付]\n",
    "1. 起動すると以下のようなサブコマンドの書かれた画面が表示されることを確認する．\n",
    "    \n",
    "    Commands:\n",
    "        editor_lerner delete [number~number]\n",
    "        editor_learner help [COMMAND]\n",
    "        editor_learner random_check\n",
    "        editor_leraner sequential_check [lesson_number] [1~3numbers]\n",
    "        \n",
    "1. editor_learnerの後にサブコマンドと必要に応じた引数を入力すると動作する．それぞれのサブコマンドの更に詳しい説明は以下の通りである．"
   ]
  },
  {
   "cell_type": "markdown",
   "metadata": {},
   "source": [
    "### delete"
   ]
  },
  {
   "cell_type": "markdown",
   "metadata": {},
   "source": [
    "editor_learnerを起動することで初期設定で述べたようにホームディレクトリにeditor_learner/workshopが作成される．deleteはworkshopに作成されたruby_1~ruby_6を削除するために作成されたものである．sequential_checkで１度プログラムを作成してしまうと再度実行するとIt have been finished!と表示されてしまうので，削除するコマンドを作成しました．コマンド例は以下の通りである．\n",
    "\n",
    "コマンド例\n",
    "\n",
    "1. editor_learner delete 1 3\n",
    "\n",
    "    \n",
    "上記のように入力することで１〜３までのファイルが削除される．サブコマンドの後の引数は２つの数字(char型)であり，削除するファイルの範囲を入力する．"
   ]
  },
  {
   "cell_type": "markdown",
   "metadata": {},
   "source": [
    "### random_h.rbとsequential_h.rb\n",
    "\n",
    "random_h.rbとsequential_h.rbが初期設定で作成され，editor_learnerを起動することで自動的に作成され，random_checkとsequential_checkを行う際に最初に開くファイルとなる．random_check用とsequential_check用に二つのファイルがある．random_check用のファイルは以下の通りである．\n",
    "\n",
    "random_h.rb\n",
    "```\n",
    "# to open 　question.rb\n",
    "#  c-x 2: split window vertically\n",
    "#  c-x c-f: find file and input question.rb\n",
    "# open answer.rb as above\n",
    "#  c-x 3: split window horizontally\n",
    "#  c-x c-f: find file and input answer.rb\n",
    "# move the other window\n",
    "#  c-x o: other windw\n",
    "# then edit answer.rb as question.rb\n",
    "\n",
    "# c-a: move ahead\n",
    "# c-d: delete character\n",
    "# c-x c-s: save file\n",
    "# c-x c-c: quit edit\n",
    "# c-k: kill the line\n",
    "# c-y: paste of killed line\n",
    "```\n",
    "上から順に説明すると，\n",
    "1. question.rbを開くためにc-x 2で画面を2分割にする．\n",
    "1. c-x c-fでquestion.rbを探して開く．\n",
    "1. 次にanswer.rbを開くために画面を3分割する\n",
    "1. 同様にc-x c-fでanswer.rbを探して開く．\n",
    "1. c-x oでanswer.rbを編集するためにポインタを移動させる．\n",
    "1. question.rbに書かれているコードをanswer.rbに写す．\n",
    "\n",
    "これらの手順がrandom_h.rbに記述されている．\n",
    "\n",
    "次にsequential_h.rb\n",
    "```\n",
    "#to open q.rb\n",
    "# c-x 2: find file and input q.rb\n",
    "# c-x c-f: find file and input q.rb\n",
    "# open 1~3.rb as above\n",
    "# c-x 3: split find file and input 1~3.rb\n",
    "# move the other window\n",
    "# c-x o: other window\n",
    "# then edit 1~3.rb q.rb\n",
    "\n",
    "# c-a:move ahead\n",
    "# c-d: delete character\n",
    "# c-x c-s: save file\n",
    "# c-x c-c: quit edit\n",
    "# c-k: kill the line\n",
    "# c-y: paste of killed line\n",
    "```\n",
    "\n",
    "書かれている内容自体はrandom_h.rbとほとんど差異がないが，開くファイルの名前が違うため別のファイルとして作成された．この手順に沿って作業することになる．下に書かれているのは主要キーバインドであり，必要に応じて見て，使用する形となっている．"
   ]
  },
  {
   "cell_type": "markdown",
   "metadata": {},
   "source": [
    "### random_checkの仕様\n",
    "\n",
    "random_checkの動作開始から終了は以下の通りである．\n",
    "\n",
    "1. コマンドライン上にてeditor_learne random_checkを入力\n",
    "1. 新しいターミナル(ホームディレクトリ/editor_learner/workshopから始まる)が開かれる．\n",
    "1. random_h.rbを開いてrandom_h.rbに沿ってquestion.rbに書かれているコードをanswer.rbに写す．\n",
    "1. 前のターミナルに戻り，コマンドラインに\"check\"と入力することで正誤判定を行ってくれる．\n",
    "1. 間違っていればdiff-lcsにより間違った箇所が表示される．\n",
    "1. 正しければ新しいターミナルが開かれてから終了までの時間とIt have been finished!が表示され終了となる．\n",
    "\n",
    "更に次回random_check起動時には前に書いたコードがanswer.rbに格納されたままなので全て削除するのではなく，前のコードの必要な部分は残すことができる．\n",
    "\n",
    "random_checkの大きな目的はtyping速度，正確性の向上，editor操作やRuby言語の習熟に重点を置いている．いかに早く終わらせるかのポイントがtyping速度，正確性とeditor操作である．"
   ]
  },
  {
   "cell_type": "markdown",
   "metadata": {},
   "source": [
    "### sequential_checkの仕様"
   ]
  },
  {
   "cell_type": "markdown",
   "metadata": {},
   "source": []
  },
  {
   "cell_type": "markdown",
   "metadata": {},
   "source": [
    "# 実装コードの解説"
   ]
  },
  {
   "cell_type": "markdown",
   "metadata": {},
   "source": [
    "## 起動時のプログラム\n",
    "\n",
    "editor_learnerを起動したときに自動に動く部分である．コードは以下の通りである．\n",
    "\n",
    "```\n",
    "def initialize(*args)\n",
    "      super\n",
    "      @prac_dir=\"#{ENV['HOME']}/editor_learner/workshop\"\n",
    "      @lib_location = Open3.capture3(\"gem environment gemdir\")\n",
    "      @versions = Open3.capture3(\"gem list editor_learner\")\n",
    "      p @latest_version = @versions[0].chomp.gsub(' (', '-').gsub(')','')\n",
    "      @inject = File.join(@lib_location[0].chomp, \"/gems/#{@latest_version}/lib\")\n",
    "      if File.exist?(@prac_dir) != true then\n",
    "        FileUtils.mkdir_p(@prac_dir)\n",
    "        FileUtils.touch(\"#{@prac_dir}/question.rb\")\n",
    "        FileUtils.touch(\"#{@prac_dir}/answer.rb\")\n",
    "        FileUtils.touch(\"#{@prac_dir}/random_h.rb\")\n",
    "        if File.exist?(\"#{@inject}/random_h.rb\") == true then\n",
    "          FileUtils.cp(\"#{@inject}/random_h.rb\", \"#{@prac_dir}/random_h.rb\")\n",
    "        elsif\n",
    "          FileUtils.cp(\"#{ENV['HOME']}/editor_learner/lib/random_h.rb\", \"#{@prac_dir}/random_h.rb\")\n",
    "        end\n",
    "      end\n",
    "      range = 1..6\n",
    "      range_ruby = 1..3\n",
    "      range.each do|num|\n",
    "        if File.exist?(\"#{@prac_dir}/ruby_#{num}\") != true then\n",
    "          FileUtils.mkdir(\"#{@prac_dir}/ruby_#{num}\")\n",
    "          FileUtils.touch(\"#{@prac_dir}/ruby_#{num}/q.rb\")\n",
    "          FileUtils.touch(\"#{@prac_dir}/ruby_#{num}/sequential_h.rb\")\n",
    "          if File.exist?(\"#{@inject}/sequential_h.rb\") == true then\n",
    "            FileUtils.cp(\"#{@inject}/sequential_h.rb\", \"#{@prac_dir}/ruby_#{num}/sequential_h.rb\")\n",
    "          else\n",
    "            FileUtils.cp(\"#{ENV['HOME']}/editor_learner/lib/sequential_h.rb\", \"#{@prac_dir}/ruby_#{num}/sequential_h.rb\")\n",
    "          end\n",
    "          range_ruby.each do|n|\n",
    "            FileUtils.touch(\"#{@prac_dir}/ruby_#{num}/#{n}.rb\")\n",
    "          end\n",
    "        end\n",
    "      end\n",
    "    end\n",
    "```\n",
    "\n",
    "この部分は基本的にディレクトリやファイルの作成が主である．上から順に説明すると，@prac_dirはホームディレクトリ/editor_learner/workshopを指しており，ファイルを作る際のパスとして作成されたインスタンス定数である．その後の3つのインスタンス定数(@lib_location,@versions,@latest_version)はgemでinstallされた場合ファイルの場所がホームディレクトリ/.rbenv/versions/2.4.0/lib/ruby/gems/2.4.0/gemsのeditor_learnerに格納されているためgemでinstallした人とgithubでinstallした人とではパスが変わってしまうためこれらの3つのインスタンス定数を用意した．実際の振る舞いとしては，File.existによりprac_dirがなければディレクトリを作成しさらにその中にquestion.rbとanswer.rbを作成する．gemにリリースしていることからgemでinstallした人とgithubでinstallした人のパスの違いをif文で条件分岐させている．これによりrandom_h.rbを正常にコピーすることができた．"
   ]
  },
  {
   "cell_type": "markdown",
   "metadata": {},
   "source": [
    "## delete\n",
    "\n",
    "```\n",
    "desc 'delete [number~number]', 'delete the ruby_file choose number to delet\\\n",
    "e file'\n",
    "\n",
    "def delete(n, m)\n",
    "  range = n..m\n",
    "  range.each{|num|\n",
    "  if File.exist?(\"#{@prac_dir}/ruby_#{num}\") == true then\n",
    "    system \"rm -rf #{@prac_dir}/ruby_#{num}\"\n",
    "  end\n",
    "  }\n",
    "end\n",
    "```"
   ]
  },
  {
   "cell_type": "markdown",
   "metadata": {},
   "source": [
    "## random_check\n",
    "\n",
    "```\n",
    "desc 'random_check', 'ramdom check your typing and edit skill.'\n",
    "    def random_check(*argv)\n",
    "      random = rand(1..15)\n",
    "      p random\n",
    "      s = \"#{random}.rb\"\n",
    "      puts \"check starting ...\"\n",
    "      puts \"type following commands on the terminal\"\n",
    "      puts \"> emacs question.rb answer.rb\"\n",
    "\n",
    "      src_dir = File.expand_path('../..', __FILE__) # \"Users/souki/editor_learner\"\n",
    "      if File.exist?(\"#{@inject}/random_check_question/#{s}\") == true then\n",
    "        FileUtils.cp(\"#{@inject}/random_check_question/#{s}\", \"#{@prac_dir}/question.rb\")\n",
    "      elsif\n",
    "        FileUtils.cp(File.join(src_dir, \"lib/random_check_question/#{s}\"),  \"#{@prac_dir}/question.rb\")\n",
    "      end\n",
    "      open_terminal\n",
    "      \n",
    "      start_time = Time.now\n",
    "      loop do\n",
    "        a = STDIN.gets.chomp\n",
    "        if a == \"check\" && FileUtils.compare_file(\"#{@prac_dir}/question.rb\", \"#{@prac_dir}/answer.rb\") == true then\n",
    "          puts \"It have been finished!\"\n",
    "          break\n",
    "        elsif FileUtils.compare_file(\"#{@prac_dir}/question.rb\", \"#{@prac_dir}/answer.rb\") != true then\n",
    "          @inputdata = File.open(\"#{@prac_dir}/answer.rb\").readlines\n",
    "          @checkdata = File.open(\"#{@prac_dir}/question.rb\").readlines\n",
    "          diffs = Diff::LCS.diff(\"#{@inputdata}\", \"#{@checkdata}\")\n",
    "          diffs.each do |diff|\n",
    "            p diff\n",
    "          end\n",
    "        end\n",
    "      end\n",
    "      end_time = Time.now\n",
    "      time = end_time - start_time - 1\n",
    "      \n",
    "      puts \"#{time} sec\"\n",
    "    end\n",
    "```"
   ]
  },
  {
   "cell_type": "markdown",
   "metadata": {},
   "source": [
    "## sequential_check\n",
    "\n",
    "```\n",
    "desc 'sequential_check [lesson_number] [1~3number] ','sequential check your typing skill and edit skill choose number'\n",
    "    def sequential_check(*argv, n, m)\n",
    "      l = m.to_i - 1\n",
    "     \n",
    "      @seq_dir = \"lib/sequential_check_question\"\n",
    "      q_rb = \"ruby_#{n}/#{m}.rb\"\n",
    "      @seqnm_dir = File.join(@seq_dir,q_rb)\n",
    "      @pracnm_dir = \"#{ENV['HOME']}/editor_learner/workshop/ruby_#{n}/#{m}.rb\"\n",
    "      @seqnq_dir = \"lib/sequential_check_question/ruby_#{n}/q.rb\"\n",
    "      @pracnq_dir = \"#{ENV['HOME']}/editor_learner/workshop/ruby_#{n}/q.rb\"      \n",
    "      @seqnl_dir = \"lib/sequential_check_question/ruby_#{n}/#{l}.rb\"\n",
    "      @pracnl_dir = \"#{ENV['HOME']}/editor_learner/workshop/ruby_#{n}/#{l}.rb\"      \n",
    "      puts \"check starting ...\"\n",
    "      puts \"type following commands on the terminal\"\n",
    "      src_dir = File.expand_path('../..', __FILE__)\n",
    "      if File.exist?(\"#{@inject}/sequential_check_question/ruby_#{n}/#{m}.rb\") == true then\n",
    "        FileUtils.cp(\"#{@inject}/sequential_check_question/ruby_#{n}/#{m}.rb\", \"#{@pracnq_dir}\")\n",
    "      elsif\n",
    "        FileUtils.cp(File.join(src_dir, \"#{@seqnm_dir}\"),  \"#{@pracnq_dir}\")\n",
    "      end\n",
    "      if l != 0 && FileUtils.compare_file(\"#{@pracnm_dir}\", \"#{@pracnq_dir}\") != true\n",
    "        FileUtils.compare_file(\"#{@pracnl_dir}\", (File.join(src_dir, \"#{@seqnl_dir}\"))) == true\n",
    "        FileUtils.cp(\"#{@pracnl_dir}\", \"#{@pracnm_dir}\")\n",
    "      end\n",
    "      \n",
    "      if FileUtils.compare_file(@pracnm_dir, @pracnq_dir) != true then\n",
    "        system \"osascript -e 'tell application \\\"Terminal\\\" to do script \\\"cd #{@prac_dir}/ruby_#{n} \\\" '\"\n",
    "        loop do\n",
    "          a = STDIN.gets.chomp\n",
    "          if a == \"check\" && FileUtils.compare_file(\"#{@pracnm_dir}\", \"#{@pracnq_dir}\") == true then\n",
    "            puts \"ruby_#{n}/#{m}.rb is done!\"\n",
    "            break\n",
    "          elsif FileUtils.compare_file(\"#{@pracnm_dir}\", \"#{@pracnq_dir}\") != true then\n",
    "            @inputdata = File.open(\"#{@pracnm_dir}\").readlines\n",
    "            @checkdata = File.open(\"#{@pracnq_dir}\").readlines\n",
    "            diffs = Diff::LCS.diff(\"#{@inputdata}\", \"#{@checkdata}\")\n",
    "            diffs.each do |diff|\n",
    "              p diff\n",
    "            end\n",
    "          end\n",
    "        end\n",
    "       else\n",
    "        p \"ruby_#{n}/#{m}.rb is finished!\"\n",
    "      end\n",
    "    end\n",
    "```"
   ]
  },
  {
   "cell_type": "markdown",
   "metadata": {},
   "source": [
    "## open_terminal\n",
    "新しいターミナルを開くメソッドである．コードは以下の通りである．\n",
    "\n",
    "```\n",
    "def open_terminal\n",
    "        pwd = Dir.pwd\n",
    "        system \"osascript -e 'tell application \\\"Terminal\\\" to do script \\\"cd #{@prac_dir} \\\" '\"\n",
    "      end\n",
    "```\n",
    "\n",
    "新しく開かれたターミナルはprac_dir(editor_learner/workshop)のディレクトリからスタートするように設定されている．"
   ]
  },
  {
   "cell_type": "markdown",
   "metadata": {},
   "source": [
    "# 総括"
   ]
  },
  {
   "cell_type": "markdown",
   "metadata": {},
   "source": [
    "ここには他のタイピングソフトとのひかk"
   ]
  }
 ],
 "metadata": {
  "kernelspec": {
   "display_name": "Python 3",
   "language": "python",
   "name": "python3"
  },
  "language_info": {
   "codemirror_mode": {
    "name": "ipython",
    "version": 3
   },
   "file_extension": ".py",
   "mimetype": "text/x-python",
   "name": "python",
   "nbconvert_exporter": "python",
   "pygments_lexer": "ipython3",
   "version": "3.6.2"
  },
  "toc": {
   "nav_menu": {},
   "number_sections": true,
   "sideBar": true,
   "skip_h1_title": false,
   "toc_cell": true,
   "toc_position": {},
   "toc_section_display": "block",
   "toc_window_display": false
  }
 },
 "nbformat": 4,
 "nbformat_minor": 2
}
