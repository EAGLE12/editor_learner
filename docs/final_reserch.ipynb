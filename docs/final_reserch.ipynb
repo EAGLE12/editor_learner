{
 "cells": [
  {
   "cell_type": "markdown",
   "metadata": {
    "toc": true
   },
   "source": [
    "<h1>Table of Contents<span class=\"tocSkip\"></span></h1>\n",
    "<div class=\"toc\" style=\"margin-top: 1em;\"><ul class=\"toc-item\"><li><span><a href=\"#はじめに\" data-toc-modified-id=\"はじめに-1\"><span class=\"toc-item-num\">1&nbsp;&nbsp;</span>はじめに</a></span><ul class=\"toc-item\"><li><span><a href=\"#研究の目的\" data-toc-modified-id=\"研究の目的-1.1\"><span class=\"toc-item-num\">1.1&nbsp;&nbsp;</span>研究の目的</a></span></li><li><span><a href=\"#Emacs\" data-toc-modified-id=\"Emacs-1.2\"><span class=\"toc-item-num\">1.2&nbsp;&nbsp;</span>Emacs</a></span></li><li><span><a href=\"#研究の動機\" data-toc-modified-id=\"研究の動機-1.3\"><span class=\"toc-item-num\">1.3&nbsp;&nbsp;</span>研究の動機</a></span></li><li><span><a href=\"#動作環境\" data-toc-modified-id=\"動作環境-1.4\"><span class=\"toc-item-num\">1.4&nbsp;&nbsp;</span>動作環境</a></span></li></ul></li><li><span><a href=\"#基本的事項\" data-toc-modified-id=\"基本的事項-2\"><span class=\"toc-item-num\">2&nbsp;&nbsp;</span>基本的事項</a></span><ul class=\"toc-item\"><li><span><a href=\"#インストール方法\" data-toc-modified-id=\"インストール方法-2.1\"><span class=\"toc-item-num\">2.1&nbsp;&nbsp;</span>インストール方法</a></span><ul class=\"toc-item\"><li><span><a href=\"#githubからのインストール\" data-toc-modified-id=\"githubからのインストール-2.1.1\"><span class=\"toc-item-num\">2.1.1&nbsp;&nbsp;</span>githubからのインストール</a></span></li><li><span><a href=\"#gemからのインストール\" data-toc-modified-id=\"gemからのインストール-2.1.2\"><span class=\"toc-item-num\">2.1.2&nbsp;&nbsp;</span>gemからのインストール</a></span></li></ul></li><li><span><a href=\"#使用したgemファイル\" data-toc-modified-id=\"使用したgemファイル-2.2\"><span class=\"toc-item-num\">2.2&nbsp;&nbsp;</span>使用したgemファイル</a></span><ul class=\"toc-item\"><li><span><a href=\"#diff-lcs\" data-toc-modified-id=\"diff-lcs-2.2.1\"><span class=\"toc-item-num\">2.2.1&nbsp;&nbsp;</span>diff-lcs</a></span></li><li><span><a href=\"#Thor\" data-toc-modified-id=\"Thor-2.2.2\"><span class=\"toc-item-num\">2.2.2&nbsp;&nbsp;</span>Thor</a></span></li><li><span><a href=\"#Minitest\" data-toc-modified-id=\"Minitest-2.2.3\"><span class=\"toc-item-num\">2.2.3&nbsp;&nbsp;</span>Minitest</a></span></li><li><span><a href=\"#FileUtils\" data-toc-modified-id=\"FileUtils-2.2.4\"><span class=\"toc-item-num\">2.2.4&nbsp;&nbsp;</span>FileUtils</a></span></li><li><span><a href=\"#open3\" data-toc-modified-id=\"open3-2.2.5\"><span class=\"toc-item-num\">2.2.5&nbsp;&nbsp;</span>open3</a></span></li><li><span><a href=\"#Emacs\" data-toc-modified-id=\"Emacs-2.2.6\"><span class=\"toc-item-num\">2.2.6&nbsp;&nbsp;</span>Emacs</a></span></li></ul></li><li><span><a href=\"#Editor_learneの使用方法\" data-toc-modified-id=\"Editor_learneの使用方法-2.3\"><span class=\"toc-item-num\">2.3&nbsp;&nbsp;</span>Editor_learneの使用方法</a></span><ul class=\"toc-item\"><li><span><a href=\"#delete\" data-toc-modified-id=\"delete-2.3.1\"><span class=\"toc-item-num\">2.3.1&nbsp;&nbsp;</span>delete</a></span></li><li><span><a href=\"#random_check\" data-toc-modified-id=\"random_check-2.3.2\"><span class=\"toc-item-num\">2.3.2&nbsp;&nbsp;</span>random_check</a></span><ul class=\"toc-item\"><li><span><a href=\"#random_checkの仕様\" data-toc-modified-id=\"random_checkの仕様-2.3.2.1\"><span class=\"toc-item-num\">2.3.2.1&nbsp;&nbsp;</span>random_checkの仕様</a></span></li></ul></li><li><span><a href=\"#sequential_checkの仕様\" data-toc-modified-id=\"sequential_checkの仕様-2.3.3\"><span class=\"toc-item-num\">2.3.3&nbsp;&nbsp;</span>sequential_checkの仕様</a></span></li></ul></li></ul></li></ul></div>"
   ]
  },
  {
   "cell_type": "markdown",
   "metadata": {},
   "source": [
    "# はじめに"
   ]
  },
  {
   "cell_type": "markdown",
   "metadata": {},
   "source": [
    "## 研究の目的"
   ]
  },
  {
   "cell_type": "markdown",
   "metadata": {
    "collapsed": true
   },
   "source": [
    "Editor_learnerの大きな目的はEditor(Emacs)操作の習熟，タイピング速度の向上，CUI操作への適応である．これら全てはプログラマにとって作業を効率化させるだけでなく，プログラマとしての質の向上にも繋がる．"
   ]
  },
  {
   "cell_type": "markdown",
   "metadata": {},
   "source": [
    "## Emacs"
   ]
  },
  {
   "cell_type": "markdown",
   "metadata": {},
   "source": [
    "本研究において使用するEditorはEmacsである．ツールはプログラマ自身の手の延長である．これは他のどのようなソフトウェアツールよりもEditorに対して当てはまる．テキストはプログラミングにおける最も基本的な生素材なので，できる限り簡単に操作できる必要があります．[1]そこで西谷研究室で勧められているEmacsの機能については以下の通りである，\n",
    "\n",
    "1. 設定可能である．　フォント，色，ウィンドウサイズ，キーバインドを含めた全ての外見が好みに応じて設定できるようになっていること．通常の操作がキーストロークだけで行えると，手をキーボードから離す必要がなくなり，結果的にマウスやメニュー駆動型のコマンドよりも効率的に操作できるようになります\n",
    "1. 拡張性がある．　新しいプログラミング言語が出てきただけで，使い物にならなくなるようなエディタではなく，どんな新しい言語やテキスト形式が出てきたとしても，その言語の意味合いを「教え込む」ことが可能です\n",
    "1. プログラム可能であること．　込み入った複数の手順を実行できるよう，Editorはプログラム可能であることが必須である.\n",
    "\n",
    "これらの機能は本来エディタが持つべき基本的な機能である．これらに加えてEmacsは，\n",
    "\n",
    "1. 構文のハイライト　Rubyの構文にハイライトを入れたい場合はファイル名の後に.rbと入れることでRubyモードに切り替わり構文にハイライトを入れることが可能になる．\n",
    "1. 自動インデント．　テキストを編集する際，改行時に自動的にスペースやタブなどを入力しインデント調整を行ってくれる．\n",
    "\n",
    "などのプログラミング言語に特化した特徴を備えています．強力なEditorを習熟することは生産性を高めることに他ならない．カーソルの移動にしても，１回のキー入力で単語単位，行単位，ブロック単位，関数単位でカーソルを移動させることができれば，一文字ずつ，あるいは一行ずつ繰り返してキー入力を行う場合とは効率が大きく変わってきます．なので一つEditorを習熟するならEmacsをお勧めします．"
   ]
  },
  {
   "cell_type": "markdown",
   "metadata": {},
   "source": [
    "## 研究の動機"
   ]
  },
  {
   "cell_type": "markdown",
   "metadata": {},
   "source": [
    "西谷研究室では正しい運指によるタッチタイピングやEditor操作の習熟に重点を置いている．なぜなら，プログラマにおいてタッチタイピングを習得していないということは，ペアプログラミングにおいて作業の効率の下落の原因になりかねないからである．Editor操作の習熟も同じであり，全ての操作をキーボード上(CUI)で行うことができると作業の効率は非常に上がるからである．そこで，初めはタイピングに特化したプログラムを作成しようと考えたが，タイピングに特化したものはWeb上に大量に転がっていて，類似したようなものを作っても意味がないと感じた．そこで，プログラムのタイピングができ，かつEditor操作の習熟も可能なソフトを開発しようと考えた．"
   ]
  },
  {
   "cell_type": "markdown",
   "metadata": {},
   "source": [
    "## 動作環境"
   ]
  },
  {
   "cell_type": "markdown",
   "metadata": {},
   "source": [
    "Rubyのversionが2.4.0以上でなければ，動作しない．理由としては，gemでinstallした際にgemの"
   ]
  },
  {
   "cell_type": "markdown",
   "metadata": {
    "collapsed": true
   },
   "source": [
    "# 基本的事項"
   ]
  },
  {
   "cell_type": "markdown",
   "metadata": {},
   "source": [
    "## インストール方法"
   ]
  },
  {
   "cell_type": "markdown",
   "metadata": {},
   "source": [
    "### githubからのインストール"
   ]
  },
  {
   "cell_type": "markdown",
   "metadata": {},
   "source": [
    "githubによるインストール方法は以下の通りである．\n",
    "1. \"https://github.com/souki1103/editor_learner\" へアクセス\n",
    "1. Clone or downloadを押しSSHのURLをコピー\n",
    "1. コマンドラインにてgit clone [コピーしたURL]を行う\n",
    "   \n",
    "上記の手順で開発したファイルがそのまま自分のディレクトリにインストールされる．"
   ]
  },
  {
   "cell_type": "markdown",
   "metadata": {},
   "source": [
    "### gemからのインストール"
   ]
  },
  {
   "cell_type": "markdown",
   "metadata": {},
   "source": [
    "gemによるインストール方法は以下の通りである．\n",
    "1. コマンドラインにてgem install editor_learnerとうち，実行\n",
    "1. ファイルが自分の.rbenv/versions/2.4.0/lib/ruby/gems/2.4.0/gemsにeditor_learnerが収納される"
   ]
  },
  {
   "cell_type": "markdown",
   "metadata": {},
   "source": [
    "## 使用したgemファイル"
   ]
  },
  {
   "cell_type": "markdown",
   "metadata": {},
   "source": [
    "### diff-lcs"
   ]
  },
  {
   "cell_type": "markdown",
   "metadata": {},
   "source": [
    "diff-lcsは二つのファイルの差分を求めて出力してくれる．テキストの差分を取得するメソッドは,Diff::LCS.sdiff と Diff::LCS.diff の２つがある.複数行の文字列を比較した場合の２つのメソッドの違いは以下のとおり.\n",
    "\n",
    "1. Diff::LCS.sdiff\n",
    "   比較結果を１文字ずつ表示する\n",
    "2. Diff::LCS.diff\n",
    "   比較した結果，違いがあった行について，違いがあった箇所のみ表示する．\n",
    "     \n",
    "今回使用したのは後者である．理由は間違った部分だけを表示した方が見やすいと考えたからである．"
   ]
  },
  {
   "cell_type": "markdown",
   "metadata": {},
   "source": [
    "### Thor"
   ]
  },
  {
   "cell_type": "markdown",
   "metadata": {},
   "source": [
    "Thorは，コマンドラインツールの作成を支援するライブラリです．gitやbundlerのようなサブコマンドツールを簡単に作成することができます．Thorの使用で容易にサブコマンドを直感的に覚えやすくした．"
   ]
  },
  {
   "cell_type": "markdown",
   "metadata": {},
   "source": [
    "### Minitest"
   ]
  },
  {
   "cell_type": "markdown",
   "metadata": {},
   "source": [
    "Minitestはテストを自動化するためのテスト用のフレームワークである．Rubyにはいくつかのテスティングフレームワークがありますが，Minitestというフレームワークを利用した理由は以下の通りです．\n",
    "\n",
    "1. Rubyをインストールすると一緒にインストールされるため，特別なセットアップが不要．\n",
    "1. 学習コストが比較的低い．\n",
    "1. Railsのデフォルトのテスティングフレームワークなので，Railsを開発するときにも知識を活かしやすい．"
   ]
  },
  {
   "cell_type": "markdown",
   "metadata": {},
   "source": [
    "### FileUtils"
   ]
  },
  {
   "cell_type": "markdown",
   "metadata": {},
   "source": [
    "再帰的な削除などの基本的なファイル操作を行うためのライブラリ"
   ]
  },
  {
   "cell_type": "markdown",
   "metadata": {},
   "source": [
    "### open3"
   ]
  },
  {
   "cell_type": "markdown",
   "metadata": {},
   "source": [
    "プログラムを実行し，そのプロセスの標準出力，標準入力，標準エラー出力にパイプをつなぐためのものである．"
   ]
  },
  {
   "cell_type": "markdown",
   "metadata": {},
   "source": [
    "### Emacs"
   ]
  },
  {
   "cell_type": "markdown",
   "metadata": {},
   "source": [
    "Emacsは，拡張性を特徴としたテキストエディタである．"
   ]
  },
  {
   "cell_type": "markdown",
   "metadata": {},
   "source": [
    "## Editor_learneの使用方法"
   ]
  },
  {
   "cell_type": "markdown",
   "metadata": {},
   "source": [
    "使用方法は以下の通りである，\n",
    "\n",
    "1. コマンドライン上にてeditor_learnerを入力する．\n",
    "1. Commands:\n",
    "    2. editor_lerner delete [number~number]\n",
    "    2. editor_learner help [COMMAND]\n",
    "    2. editor_learner random_check\n",
    "    2. editor_leraner sequential_check [lesson_number] [1~3numbers]\n",
    "    が表示される．\n",
    "1. editor_learnerの後にサブコマンドを入力するその後ろに引数が必要なものは必要に応じて引数を入力するそれぞれのサブコマンドの更に詳しい説明は以下"
   ]
  },
  {
   "cell_type": "markdown",
   "metadata": {},
   "source": [
    "### delete"
   ]
  },
  {
   "cell_type": "markdown",
   "metadata": {},
   "source": [
    "editor_learnerを起動することで毎回ホームディレクトリにeditor_learner/workshopが作成されその中に作業するファイルが置かれていく．全てのプログラムを作成し終えると，もう一度実行したときにIt have been finished!と表示されるため一度削除する必要がある．そのためのコマンドである．使用例は以下の通り，\n",
    "\n",
    "    editor_learner delete 1 3\n",
    "    \n",
    "上記のように入力することで１〜３までのファイルが削除される．削除したいファイルの範囲を指定することで一括削除も可能となっています．"
   ]
  },
  {
   "cell_type": "markdown",
   "metadata": {},
   "source": [
    "### random_check"
   ]
  },
  {
   "cell_type": "markdown",
   "metadata": {},
   "source": [
    "#### random_checkの仕様"
   ]
  },
  {
   "cell_type": "markdown",
   "metadata": {},
   "source": [
    "random_checkはタイピングとキーバインドの習熟に重点をおいている．コマンドライン上で，\n",
    "\n",
    "    editor_learne random_check\n",
    "    \n",
    "と入力すると，新しいターミナルが開かれる．その新しいターミナル上で，\n",
    "\n",
    "    emacs　h.rb\n",
    "    \n",
    "と入力し，h.rbファイルを開きます．h.rbにはこれから行われるEmacsの操作手順が書かれている．画面分割をし，question.rb(問題が写されたファイル)を開き，さらに画面分割でanswer.rb(写経するファイル)を開き写経を開始する．全て写経し終えたら，answer.rbを保存し，前のターミナル上で\"check\"と入力することで正誤判定がなされ，正しければターミナルが開かれた時間から終わるまでの時間が計測され表示される．間違っていれば間違った箇所が表示されるのでもう一度ファイルを開き直し，修正，正誤判定を正解するまで行う．問題のファイルは現段階で15個あり，そこからrandomに選ばれる．"
   ]
  },
  {
   "cell_type": "markdown",
   "metadata": {},
   "source": [
    "### sequential_checkの仕様"
   ]
  },
  {
   "cell_type": "markdown",
   "metadata": {},
   "source": [
    "sequential_checkはRubyの習熟，リファクタリングやキーバインドの習熟に重点をおいている．コマンドライン上で，\n",
    "\n",
    "    editor_learner sequential_check [1~6] [1~3]\n",
    "    \n",
    "を入力することで，開始することができる．random_checkと同様に新しいターミナルが開かれ，そこで\n",
    "\n",
    "    emacs h.rb\n",
    "    \n",
    "を入力することでrandom_check同様の操作手順が書かれている．sequential_checkは1~6の章に1~3のファイルが格納されている．順番にクリアしていくことを想定している．1,2,3は一つのプログラムが完成していく様が描かれている．これによりプログラムのリファクタリングやキーバインドの習熟を可能にしている．"
   ]
  },
  {
   "cell_type": "markdown",
   "metadata": {},
   "source": []
  }
 ],
 "metadata": {
  "kernelspec": {
   "display_name": "Python 3",
   "language": "python",
   "name": "python3"
  },
  "language_info": {
   "codemirror_mode": {
    "name": "ipython",
    "version": 3
   },
   "file_extension": ".py",
   "mimetype": "text/x-python",
   "name": "python",
   "nbconvert_exporter": "python",
   "pygments_lexer": "ipython3",
   "version": "3.6.2"
  },
  "toc": {
   "nav_menu": {},
   "number_sections": true,
   "sideBar": true,
   "skip_h1_title": false,
   "toc_cell": true,
   "toc_position": {},
   "toc_section_display": "block",
   "toc_window_display": false
  }
 },
 "nbformat": 4,
 "nbformat_minor": 2
}
