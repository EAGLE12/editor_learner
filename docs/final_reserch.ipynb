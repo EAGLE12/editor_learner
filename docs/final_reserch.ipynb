{
 "cells": [
  {
   "cell_type": "markdown",
   "metadata": {
    "toc": true
   },
   "source": [
    "<h1>Table of Contents<span class=\"tocSkip\"></span></h1>\n",
    "<div class=\"toc\" style=\"margin-top: 1em;\"><ul class=\"toc-item\"><li><span><a href=\"#はじめに\" data-toc-modified-id=\"はじめに-1\"><span class=\"toc-item-num\">1&nbsp;&nbsp;</span>はじめに</a></span><ul class=\"toc-item\"><li><span><a href=\"#研究の目的\" data-toc-modified-id=\"研究の目的-1.1\"><span class=\"toc-item-num\">1.1&nbsp;&nbsp;</span>研究の目的</a></span></li><li><span><a href=\"#Emacs\" data-toc-modified-id=\"Emacs-1.2\"><span class=\"toc-item-num\">1.2&nbsp;&nbsp;</span>Emacs</a></span></li><li><span><a href=\"#研究の動機\" data-toc-modified-id=\"研究の動機-1.3\"><span class=\"toc-item-num\">1.3&nbsp;&nbsp;</span>研究の動機</a></span></li><li><span><a href=\"#動作環境\" data-toc-modified-id=\"動作環境-1.4\"><span class=\"toc-item-num\">1.4&nbsp;&nbsp;</span>動作環境</a></span></li></ul></li><li><span><a href=\"#基本的事項\" data-toc-modified-id=\"基本的事項-2\"><span class=\"toc-item-num\">2&nbsp;&nbsp;</span>基本的事項</a></span><ul class=\"toc-item\"><li><span><a href=\"#Ruby\" data-toc-modified-id=\"Ruby-2.1\"><span class=\"toc-item-num\">2.1&nbsp;&nbsp;</span>Ruby</a></span></li><li><span><a href=\"#Keybind\" data-toc-modified-id=\"Keybind-2.2\"><span class=\"toc-item-num\">2.2&nbsp;&nbsp;</span>Keybind</a></span></li><li><span><a href=\"#インストール方法\" data-toc-modified-id=\"インストール方法-2.3\"><span class=\"toc-item-num\">2.3&nbsp;&nbsp;</span>インストール方法</a></span><ul class=\"toc-item\"><li><span><a href=\"#githubからのインストール\" data-toc-modified-id=\"githubからのインストール-2.3.1\"><span class=\"toc-item-num\">2.3.1&nbsp;&nbsp;</span>githubからのインストール</a></span></li><li><span><a href=\"#gemからのインストール\" data-toc-modified-id=\"gemからのインストール-2.3.2\"><span class=\"toc-item-num\">2.3.2&nbsp;&nbsp;</span>gemからのインストール</a></span></li></ul></li><li><span><a href=\"#使用したgemファイル\" data-toc-modified-id=\"使用したgemファイル-2.4\"><span class=\"toc-item-num\">2.4&nbsp;&nbsp;</span>使用したgemファイル</a></span><ul class=\"toc-item\"><li><span><a href=\"#diff-lcs\" data-toc-modified-id=\"diff-lcs-2.4.1\"><span class=\"toc-item-num\">2.4.1&nbsp;&nbsp;</span>diff-lcs</a></span></li><li><span><a href=\"#Thor\" data-toc-modified-id=\"Thor-2.4.2\"><span class=\"toc-item-num\">2.4.2&nbsp;&nbsp;</span>Thor</a></span></li><li><span><a href=\"#Minitest\" data-toc-modified-id=\"Minitest-2.4.3\"><span class=\"toc-item-num\">2.4.3&nbsp;&nbsp;</span>Minitest</a></span></li><li><span><a href=\"#FileUtils\" data-toc-modified-id=\"FileUtils-2.4.4\"><span class=\"toc-item-num\">2.4.4&nbsp;&nbsp;</span>FileUtils</a></span></li><li><span><a href=\"#open3\" data-toc-modified-id=\"open3-2.4.5\"><span class=\"toc-item-num\">2.4.5&nbsp;&nbsp;</span>open3</a></span></li><li><span><a href=\"#Emacs\" data-toc-modified-id=\"Emacs-2.4.6\"><span class=\"toc-item-num\">2.4.6&nbsp;&nbsp;</span>Emacs</a></span></li></ul></li><li><span><a href=\"#Bundler\" data-toc-modified-id=\"Bundler-2.5\"><span class=\"toc-item-num\">2.5&nbsp;&nbsp;</span>Bundler</a></span><ul class=\"toc-item\"><li><span><a href=\"#Rubocop\" data-toc-modified-id=\"Rubocop-2.5.1\"><span class=\"toc-item-num\">2.5.1&nbsp;&nbsp;</span>Rubocop</a></span></li></ul></li><li><span><a href=\"#Editor_learneの使用方法\" data-toc-modified-id=\"Editor_learneの使用方法-2.6\"><span class=\"toc-item-num\">2.6&nbsp;&nbsp;</span>Editor_learneの使用方法</a></span><ul class=\"toc-item\"><li><span><a href=\"#delete\" data-toc-modified-id=\"delete-2.6.1\"><span class=\"toc-item-num\">2.6.1&nbsp;&nbsp;</span>delete</a></span></li><li><span><a href=\"#h.rb\" data-toc-modified-id=\"h.rb-2.6.2\"><span class=\"toc-item-num\">2.6.2&nbsp;&nbsp;</span>h.rb</a></span></li><li><span><a href=\"#random_check\" data-toc-modified-id=\"random_check-2.6.3\"><span class=\"toc-item-num\">2.6.3&nbsp;&nbsp;</span>random_check</a></span><ul class=\"toc-item\"><li><span><a href=\"#random_checkの実装コード\" data-toc-modified-id=\"random_checkの実装コード-2.6.3.1\"><span class=\"toc-item-num\">2.6.3.1&nbsp;&nbsp;</span>random_checkの実装コード</a></span></li></ul></li><li><span><a href=\"#sequential_checkの仕様\" data-toc-modified-id=\"sequential_checkの仕様-2.6.4\"><span class=\"toc-item-num\">2.6.4&nbsp;&nbsp;</span>sequential_checkの仕様</a></span></li></ul></li></ul></li><li><span><a href=\"#実行結果\" data-toc-modified-id=\"実行結果-3\"><span class=\"toc-item-num\">3&nbsp;&nbsp;</span>実行結果</a></span><ul class=\"toc-item\"><li><span><a href=\"#delete\" data-toc-modified-id=\"delete-3.1\"><span class=\"toc-item-num\">3.1&nbsp;&nbsp;</span>delete</a></span></li><li><span><a href=\"#random_check\" data-toc-modified-id=\"random_check-3.2\"><span class=\"toc-item-num\">3.2&nbsp;&nbsp;</span>random_check</a></span></li><li><span><a href=\"#sequential_check\" data-toc-modified-id=\"sequential_check-3.3\"><span class=\"toc-item-num\">3.3&nbsp;&nbsp;</span>sequential_check</a></span></li></ul></li></ul></div>"
   ]
  },
  {
   "cell_type": "markdown",
   "metadata": {},
   "source": [
    "# はじめに"
   ]
  },
  {
   "cell_type": "markdown",
   "metadata": {},
   "source": [
    "## 研究の目的"
   ]
  },
  {
   "cell_type": "markdown",
   "metadata": {
    "collapsed": true
   },
   "source": [
    "Editor_learnerの大きな目的はEditor(Emacs)操作の習熟，タイピング速度の向上，CUI操作への適応である．これら全てはプログラマにとって作業を効率化させるだけでなく，プログラマとしての質の向上にも繋がる．"
   ]
  },
  {
   "cell_type": "markdown",
   "metadata": {},
   "source": [
    "## Emacs"
   ]
  },
  {
   "cell_type": "markdown",
   "metadata": {},
   "source": [
    "本研究において使用するEditorはEmacsである．ツールはプログラマ自身の手の延長である．これは他のどのようなソフトウェアツールよりもEditorに対して当てはまる．テキストはプログラミングにおける最も基本的な生素材なので，できる限り簡単に操作できる必要があります．[1]そこで西谷研究室で勧められているEmacsの機能については以下の通りである，\n",
    "\n",
    "1. 設定可能である．　フォント，色，ウィンドウサイズ，キーバインドを含めた全ての外見が好みに応じて設定できるようになっていること．通常の操作がキーストロークだけで行えると，手をキーボードから離す必要がなくなり，結果的にマウスやメニュー駆動型のコマンドよりも効率的に操作できるようになります\n",
    "1. 拡張性がある．　新しいプログラミング言語が出てきただけで，使い物にならなくなるようなエディタではなく，どんな新しい言語やテキスト形式が出てきたとしても，その言語の意味合いを「教え込む」ことが可能です\n",
    "1. プログラム可能であること．　込み入った複数の手順を実行できるよう，Editorはプログラム可能であることが必須である.\n",
    "\n",
    "これらの機能は本来エディタが持つべき基本的な機能である．これらに加えてEmacsは，\n",
    "\n",
    "1. 構文のハイライト　Rubyの構文にハイライトを入れたい場合はファイル名の後に.rbと入れることでRubyモードに切り替わり構文にハイライトを入れることが可能になる．\n",
    "1. 自動インデント．　テキストを編集する際，改行時に自動的にスペースやタブなどを入力しインデント調整を行ってくれる．\n",
    "\n",
    "などのプログラミング言語に特化した特徴を備えています．強力なEditorを習熟することは生産性を高めることに他ならない．カーソルの移動にしても，１回のキー入力で単語単位，行単位，ブロック単位，関数単位でカーソルを移動させることができれば，一文字ずつ，あるいは一行ずつ繰り返してキー入力を行う場合とは効率が大きく変わってきます．なので一つEditorを習熟するならEmacsをお勧めします．"
   ]
  },
  {
   "cell_type": "markdown",
   "metadata": {},
   "source": [
    "## 研究の動機"
   ]
  },
  {
   "cell_type": "markdown",
   "metadata": {},
   "source": [
    "西谷研究室では正しい運指によるタッチタイピングやEditor操作の習熟に重点を置いている．なぜなら，プログラマにおいてタッチタイピングを習得していないということは，ペアプログラミングにおいて作業の効率の下落の原因になりかねないからである．Editor操作の習熟も同じであり，全ての操作をキーボード上(CUI)で行うことができると作業の効率は非常に上がるからである．そこで，初めはタイピングに特化したプログラムを作成しようと考えたが，タイピングに特化したものはWeb上に大量に転がっていて，類似したようなものを作っても意味がないと感じた．そこで，プログラムのタイピングができ，かつEditor操作の習熟も可能なソフトを開発しようと考えた．"
   ]
  },
  {
   "cell_type": "markdown",
   "metadata": {},
   "source": [
    "## 動作環境"
   ]
  },
  {
   "cell_type": "markdown",
   "metadata": {},
   "source": [
    "Rubyのversionが2.4.0以上でなければ，動作しない．理由としては，gemでinstallした際にgemの"
   ]
  },
  {
   "cell_type": "markdown",
   "metadata": {
    "collapsed": true
   },
   "source": [
    "# 基本的事項"
   ]
  },
  {
   "cell_type": "markdown",
   "metadata": {},
   "source": [
    "## Ruby\n",
    "\n",
    "Rubyはまつもとゆきひろにより開発されたオブジェクト指向スクリプト言語であり，スクリプト言語が用いられてきた領域でのオブジェクト指向プログラミングを実現する言語である．[]本研究はRuby言語を使用しています．"
   ]
  },
  {
   "cell_type": "markdown",
   "metadata": {},
   "source": [
    "## Keybind\n",
    "\n",
    "Keybindは，押下するキー(単独キーまたは複数キーの組み合わせ)と，実行される機能との対応関係のことである．また，キーを押下したときに実行させる機能を割り当てる行為のことである．[]以下controlを押しながらをc-と記述する．"
   ]
  },
  {
   "cell_type": "markdown",
   "metadata": {},
   "source": [
    "## インストール方法"
   ]
  },
  {
   "cell_type": "markdown",
   "metadata": {},
   "source": [
    "### githubからのインストール"
   ]
  },
  {
   "cell_type": "markdown",
   "metadata": {},
   "source": [
    "githubによるインストール方法は以下の通りである．\n",
    "1. \"https://github.com/souki1103/editor_learner\" へアクセス\n",
    "1. Clone or downloadを押しSSHのURLをコピー\n",
    "1. コマンドラインにてgit clone [コピーしたURL]を行う\n",
    "   \n",
    "上記の手順で開発したファイルがそのまま自分のディレクトリにインストールされる．"
   ]
  },
  {
   "cell_type": "markdown",
   "metadata": {},
   "source": [
    "### gemからのインストール"
   ]
  },
  {
   "cell_type": "markdown",
   "metadata": {},
   "source": [
    "gemによるインストール方法は以下の通りである．\n",
    "1. コマンドラインにてgem install editor_learnerと入力，実行\n",
    "1. ファイルが自分の.rbenv/versions/2.4.0/lib/ruby/gems/2.4.0/gemsにeditor_learnerが収納される\n",
    "\n",
    "これでeditor_learnerとコマンドラインで入力することで実行可能となる．"
   ]
  },
  {
   "cell_type": "markdown",
   "metadata": {},
   "source": [
    "## 使用したgemファイル"
   ]
  },
  {
   "cell_type": "markdown",
   "metadata": {},
   "source": [
    "### diff-lcs"
   ]
  },
  {
   "cell_type": "markdown",
   "metadata": {},
   "source": [
    "diff-lcsは二つのファイルの差分を求めて出力してくれる．テキストの差分を取得するメソッドは,Diff::LCS.sdiff と Diff::LCS.diff の２つがある.複数行の文字列を比較した場合の２つのメソッドの違いは以下のとおり.\n",
    "\n",
    "1. Diff::LCS.sdiff\n",
    "   比較結果を１文字ずつ表示する\n",
    "2. Diff::LCS.diff\n",
    "   比較した結果，違いがあった行について，違いがあった箇所のみ表示する．\n",
    "     \n",
    "今回使用したのは後者である．理由は間違った部分だけを表示した方が見やすいと考えたからである．"
   ]
  },
  {
   "cell_type": "markdown",
   "metadata": {},
   "source": [
    "### Thor"
   ]
  },
  {
   "cell_type": "markdown",
   "metadata": {},
   "source": [
    "Thorは，コマンドラインツールの作成を支援するライブラリです．gitやbundlerのようなサブコマンドツールを簡単に作成することができます．Thorの使用で容易にサブコマンドを直感的に覚えやすくした．"
   ]
  },
  {
   "cell_type": "markdown",
   "metadata": {},
   "source": [
    "### Minitest"
   ]
  },
  {
   "cell_type": "markdown",
   "metadata": {},
   "source": [
    "Minitestはテストを自動化するためのテスト用のフレームワークである．Rubyにはいくつかのテスティングフレームワークがありますが，Minitestというフレームワークを利用した理由は以下の通りです．\n",
    "\n",
    "1. Rubyをインストールすると一緒にインストールされるため，特別なセットアップが不要．\n",
    "1. 学習コストが比較的低い．\n",
    "1. Railsのデフォルトのテスティングフレームワークなので，Railsを開発するときにも知識を活かしやすい．"
   ]
  },
  {
   "cell_type": "markdown",
   "metadata": {},
   "source": [
    "### FileUtils"
   ]
  },
  {
   "cell_type": "markdown",
   "metadata": {},
   "source": [
    "再帰的な削除などの基本的なファイル操作を行うためのライブラリ"
   ]
  },
  {
   "cell_type": "markdown",
   "metadata": {},
   "source": [
    "### open3"
   ]
  },
  {
   "cell_type": "markdown",
   "metadata": {},
   "source": [
    "プログラムを実行し，そのプロセスの標準出力，標準入力，標準エラー出力にパイプをつなぐためのものである．"
   ]
  },
  {
   "cell_type": "markdown",
   "metadata": {},
   "source": [
    "### Emacs"
   ]
  },
  {
   "cell_type": "markdown",
   "metadata": {},
   "source": [
    "Emacsは，拡張性を特徴としたテキストエディタである．"
   ]
  },
  {
   "cell_type": "markdown",
   "metadata": {},
   "source": [
    "## Bundler\n",
    "\n",
    "Bundlerはアプリケーション谷で依存するgemパッケージを管理するためのツールです．１つのシステム上で複数のアプリケーションを開発する場合や，デプロイ時にアプリケーションに紐付けてgemパッケージを管理したい場合に利用される．"
   ]
  },
  {
   "cell_type": "markdown",
   "metadata": {},
   "source": [
    "### Rubocop\n",
    "\n",
    "RubocopはRubyのソースコード解析ツールである．Rubyスタイルガイドや他のスタイルガイドに準拠しているかどうかを自動チェックしてくれるソフトウェアです．自分が打ち込んだ問題文となるソースコードのチェックに使用しました．[]"
   ]
  },
  {
   "cell_type": "markdown",
   "metadata": {},
   "source": [
    "## Editor_learneの使用方法"
   ]
  },
  {
   "cell_type": "markdown",
   "metadata": {},
   "source": [
    "使用方法は以下の通りである，\n",
    "\n",
    "1. コマンドライン上にてeditor_learnerを入力する．\n",
    "1. Commands:\n",
    "    2. editor_lerner delete [number~number]\n",
    "    2. editor_learner help [COMMAND]\n",
    "    2. editor_learner random_check\n",
    "    2. editor_leraner sequential_check [lesson_number] [1~3numbers]\n",
    "    が表示される．\n",
    "1. editor_learnerの後にサブコマンドを入力するその後ろに引数が必要なものは必要に応じて引数を入力するそれぞれのサブコマンドの更に詳しい説明は以下"
   ]
  },
  {
   "cell_type": "markdown",
   "metadata": {},
   "source": [
    "### delete"
   ]
  },
  {
   "cell_type": "markdown",
   "metadata": {},
   "source": [
    "editor_learnerを起動することで毎回ホームディレクトリにeditor_learner/workshopが作成されその中に作業するファイルが置かれていく．全てのプログラムを作成し終えると，もう一度実行したときにIt have been finished!と表示されるため一度削除する必要がある．そのためのコマンドである．コードと使用例は以下の通り，\n",
    "\n",
    "sorce code\n",
    "```\n",
    "desc 'delete [number~number]', 'delete the ruby_file choose number to delet\\\n",
    "e file'\n",
    "\n",
    "def delete(n, m)\n",
    "  range = n..m\n",
    "  range.each{|num|\n",
    "  if File.exist?(\"#{@prac_dir}/ruby_#{num}\") == true then\n",
    "    system \"rm -rf #{@prac_dir}/ruby_#{num}\"\n",
    "  end\n",
    "  }\n",
    "end\n",
    "```\n",
    "\n",
    "コマンド例\n",
    "\n",
    "1. editor_learner delete 1 3\n",
    "\n",
    "    \n",
    "上記のように入力することで１〜３までのファイルが削除される．サブコマンドの後の引数は２つの数字(char型)であり，削除するファイルの範囲を入力する．"
   ]
  },
  {
   "cell_type": "markdown",
   "metadata": {},
   "source": [
    "### h.rb\n",
    "\n",
    "h.rbはeditor_learnerを起動することで自動的に作成され，random_checkとsequential_checkを行う際に最初に開くファイルとなる．random_check用とsequential_check用に二つのファイルがある．random_check用のファイルは以下の通りである．\n",
    "\n",
    "random_h.rb\n",
    "```\n",
    "# to open 　question.rb\n",
    "#  c-x 2: split window vertically\n",
    "#  c-x c-f: find file and input question.rb\n",
    "# open answer.rb as above\n",
    "#  c-x 3: split window horizontally\n",
    "#  c-x c-f: find file and input answer.rb\n",
    "# move the other window\n",
    "#  c-x o: other windw\n",
    "# then edit answer.rb as question.rb\n",
    "\n",
    "# c-a: move ahead\n",
    "# c-d: delete character\n",
    "# c-x c-s: save file\n",
    "# c-x c-c: quit edit\n",
    "# c-k: kill the line\n",
    "# c-y: paste of killed line\n",
    "```\n",
    "上から順に説明すると，\n",
    "1. question.rbを開くためにc-x 2で画面を2分割にする．\n",
    "1. c-x c-fでquestion.rbを探して開く．\n",
    "1. 次にanswer.rbを開くために画面を3分割する\n",
    "1. 同様にc-x c-fでanswer.rbを探して開く．\n",
    "1. c-x oでanswer.rbを編集するためにポインタを移動させる．\n",
    "1. question.rbに書かれているコードをanswer.rbに写す．\n",
    "\n",
    "これらの手順がrandom_h.rbに記述されている．\n",
    "\n",
    "次にsequential_h.rb\n",
    "```\n",
    "#to open q.rb\n",
    "# c-x 2: find file and input q.rb\n",
    "# c-x c-f: find file and input q.rb\n",
    "# open 1~3.rb as above\n",
    "# c-x 3: split find file and input 1~3.rb\n",
    "# move the other window\n",
    "# c-x o: other window\n",
    "# then edit 1~3.rb q.rb\n",
    "\n",
    "# c-a:move ahead\n",
    "# c-d: delete character\n",
    "# c-x c-s: save file\n",
    "# c-x c-c: quit edit\n",
    "# c-k: kill the line\n",
    "# c-y: paste of killed line\n",
    "```\n",
    "\n",
    "書かれている内容自体はrandom_h.rbとほとんど差異がないが，開くファイルの名前が違うため別のファイルとして作成された．この手順に沿って作業することになる．下に書かれているのは主要キーバインドであり，必要に応じて見て，使用する形となっている．"
   ]
  },
  {
   "cell_type": "markdown",
   "metadata": {},
   "source": [
    "### random_check"
   ]
  },
  {
   "cell_type": "markdown",
   "metadata": {},
   "source": [
    "#### random_checkの実装コード\n",
    "random_checkの実装コードは以下の通りである．\n",
    "```\n",
    "desc 'random_check', 'ramdom check your typing and edit skill.'\n",
    "    def random_check(*argv)\n",
    "      random = rand(1..15)\n",
    "      p random\n",
    "      s = \"#{random}.rb\"\n",
    "      puts \"check starting ...\"\n",
    "      puts \"type following commands on the terminal\"\n",
    "      puts \"> emacs question.rb answer.rb\"\n",
    "\n",
    "      src_dir = File.expand_path('../..', __FILE__) # \"Users/souki/editor_learner\"\n",
    "      if File.exist?(\"#{@inject}/random_check_question/#{s}\") == true then\n",
    "        FileUtils.cp(\"#{@inject}/random_check_question/#{s}\", \"#{@prac_dir}/question.rb\")\n",
    "      elsif\n",
    "        FileUtils.cp(File.join(src_dir, \"lib/random_check_question/#{s}\"),  \"#{@prac_dir}/question.rb\")\n",
    "      end\n",
    "      open_terminal\n",
    "      \n",
    "      start_time = Time.now\n",
    "      loop do\n",
    "        a = STDIN.gets.chomp\n",
    "        if a == \"check\" && FileUtils.compare_file(\"#{@prac_dir}/question.rb\", \"#{@prac_dir}/answer.rb\") == true then\n",
    "          puts \"It have been finished!\"\n",
    "          break\n",
    "        elsif FileUtils.compare_file(\"#{@prac_dir}/question.rb\", \"#{@prac_dir}/answer.rb\") != true then\n",
    "          @inputdata = File.open(\"#{@prac_dir}/answer.rb\").readlines\n",
    "          @checkdata = File.open(\"#{@prac_dir}/question.rb\").readlines\n",
    "          diffs = Diff::LCS.diff(\"#{@inputdata}\", \"#{@checkdata}\")\n",
    "          diffs.each do |diff|\n",
    "            p diff\n",
    "          end\n",
    "        end\n",
    "      end\n",
    "      end_time = Time.now\n",
    "      time = end_time - start_time - 1\n",
    "      \n",
    "      puts \"#{time} sec\"\n",
    "    end\n",
    "```"
   ]
  },
  {
   "cell_type": "markdown",
   "metadata": {},
   "source": [
    "random_checkはタイピングとRuby言語，Editor操作の習熟に重点を置いている．ソースコードと実行までの手順は以下の通り，\n",
    "\n",
    "1. editor_learner random_checkをコマンドライン上で入力する.\n",
    "1. 1~15までのランダムな問題ソースコードがquestion.rbにコピーされる．\n",
    "    \n",
    "と入力すると，新しいターミナルが開かれる．その新しいターミナル上で，\n",
    "\n",
    "    emacs　h.rb\n",
    "    \n",
    "と入力し，h.rbファイルを開きます．h.rbにはこれから行われるEmacsの操作手順が書かれている．画面分割をし，question.rb(問題が写されたファイル)を開き，さらに画面分割でanswer.rb(写経するファイル)を開き写経を開始する．全て写経し終えたら，answer.rbを保存し，前のターミナル上で\"check\"と入力することで正誤判定がなされ，正しければターミナルが開かれた時間から終わるまでの時間が計測され表示される．間違っていれば間違った箇所が表示されるのでもう一度ファイルを開き直し，修正，正誤判定を正解するまで行う．問題のファイルは現段階で15個あり，そこからrandomに選ばれる．"
   ]
  },
  {
   "cell_type": "markdown",
   "metadata": {},
   "source": [
    "### sequential_checkの仕様"
   ]
  },
  {
   "cell_type": "markdown",
   "metadata": {},
   "source": [
    "sequential_checkはRubyの習熟，リファクタリングやキーバインドの習熟に重点をおいている．コマンドライン上で，\n",
    "\n",
    "    editor_learner sequential_check [1~6] [1~3]\n",
    "    \n",
    "を入力することで，開始することができる．random_checkと同様に新しいターミナルが開かれ，そこで\n",
    "\n",
    "    emacs h.rb\n",
    "    \n",
    "を入力することでrandom_check同様の操作手順が書かれている．sequential_checkは1~6の章に1~3のファイルが格納されている．順番にクリアしていくことを想定している．1,2,3は一つのプログラムが完成していく様が描かれている．これによりプログラムのリファクタリングやキーバインドの習熟を可能にしている．"
   ]
  },
  {
   "cell_type": "markdown",
   "metadata": {},
   "source": [
    "# 実行結果"
   ]
  },
  {
   "cell_type": "markdown",
   "metadata": {},
   "source": [
    "## delete"
   ]
  },
  {
   "cell_type": "markdown",
   "metadata": {},
   "source": [
    "## random_check"
   ]
  },
  {
   "cell_type": "markdown",
   "metadata": {},
   "source": [
    "## sequential_check"
   ]
  }
 ],
 "metadata": {
  "kernelspec": {
   "display_name": "Python 3",
   "language": "python",
   "name": "python3"
  },
  "language_info": {
   "codemirror_mode": {
    "name": "ipython",
    "version": 3
   },
   "file_extension": ".py",
   "mimetype": "text/x-python",
   "name": "python",
   "nbconvert_exporter": "python",
   "pygments_lexer": "ipython3",
   "version": "3.6.2"
  },
  "toc": {
   "nav_menu": {},
   "number_sections": true,
   "sideBar": true,
   "skip_h1_title": false,
   "toc_cell": true,
   "toc_position": {},
   "toc_section_display": "block",
   "toc_window_display": false
  }
 },
 "nbformat": 4,
 "nbformat_minor": 2
}
