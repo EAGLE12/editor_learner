{
 "cells": [
  {
   "cell_type": "markdown",
   "metadata": {
    "toc": true
   },
   "source": [
    "<h1>Table of Contents<span class=\"tocSkip\"></span></h1>\n",
    "<div class=\"toc\" style=\"margin-top: 1em;\"><ul class=\"toc-item\"><li><span><a href=\"#はじめに\" data-toc-modified-id=\"はじめに-1\"><span class=\"toc-item-num\">1&nbsp;&nbsp;</span>はじめに</a></span><ul class=\"toc-item\"><li><span><a href=\"#研究の目的\" data-toc-modified-id=\"研究の目的-1.1\"><span class=\"toc-item-num\">1.1&nbsp;&nbsp;</span>研究の目的</a></span></li></ul></li><li><span><a href=\"#基本的事項\" data-toc-modified-id=\"基本的事項-2\"><span class=\"toc-item-num\">2&nbsp;&nbsp;</span>基本的事項</a></span><ul class=\"toc-item\"><li><span><a href=\"#インストール方法\" data-toc-modified-id=\"インストール方法-2.1\"><span class=\"toc-item-num\">2.1&nbsp;&nbsp;</span>インストール方法</a></span><ul class=\"toc-item\"><li><span><a href=\"#githubからのインストール\" data-toc-modified-id=\"githubからのインストール-2.1.1\"><span class=\"toc-item-num\">2.1.1&nbsp;&nbsp;</span>githubからのインストール</a></span></li><li><span><a href=\"#gemからのインストール\" data-toc-modified-id=\"gemからのインストール-2.1.2\"><span class=\"toc-item-num\">2.1.2&nbsp;&nbsp;</span>gemからのインストール</a></span></li></ul></li><li><span><a href=\"#使用したgemファイル\" data-toc-modified-id=\"使用したgemファイル-2.2\"><span class=\"toc-item-num\">2.2&nbsp;&nbsp;</span>使用したgemファイル</a></span></li><li><span><a href=\"#diff-lcs\" data-toc-modified-id=\"diff-lcs-2.3\"><span class=\"toc-item-num\">2.3&nbsp;&nbsp;</span>diff-lcs</a></span></li><li><span><a href=\"#Thor\" data-toc-modified-id=\"Thor-2.4\"><span class=\"toc-item-num\">2.4&nbsp;&nbsp;</span>Thor</a></span></li><li><span><a href=\"#Minitest\" data-toc-modified-id=\"Minitest-2.5\"><span class=\"toc-item-num\">2.5&nbsp;&nbsp;</span>Minitest</a></span></li><li><span><a href=\"#FileUtils\" data-toc-modified-id=\"FileUtils-2.6\"><span class=\"toc-item-num\">2.6&nbsp;&nbsp;</span>FileUtils</a></span></li></ul></li></ul></div>"
   ]
  },
  {
   "cell_type": "markdown",
   "metadata": {},
   "source": [
    "# はじめに"
   ]
  },
  {
   "cell_type": "markdown",
   "metadata": {},
   "source": [
    "## 研究の目的"
   ]
  },
  {
   "cell_type": "markdown",
   "metadata": {
    "collapsed": true
   },
   "source": [
    "西谷研究室ではタッチタイピング，キーバインド，editorの基本操作などが非常に重要である．"
   ]
  },
  {
   "cell_type": "code",
   "execution_count": null,
   "metadata": {
    "collapsed": true
   },
   "outputs": [],
   "source": []
  },
  {
   "cell_type": "code",
   "execution_count": null,
   "metadata": {
    "collapsed": true
   },
   "outputs": [],
   "source": []
  },
  {
   "cell_type": "markdown",
   "metadata": {
    "collapsed": true
   },
   "source": [
    "# 基本的事項"
   ]
  },
  {
   "cell_type": "markdown",
   "metadata": {},
   "source": [
    "## インストール方法"
   ]
  },
  {
   "cell_type": "markdown",
   "metadata": {},
   "source": [
    "### githubからのインストール"
   ]
  },
  {
   "cell_type": "markdown",
   "metadata": {},
   "source": [
    "    githubによるインストール方法は以下の通りである．\n",
    "        1. \"https://github.com/souki1103/editor_learner\"にアクセス\n",
    "        2. コマンドラインにてgit cloneを行う\n",
    "    上記の手順で開発したファイルがそのまま自分のディレクトリにインストールされる．"
   ]
  },
  {
   "cell_type": "markdown",
   "metadata": {},
   "source": [
    "### gemからのインストール"
   ]
  },
  {
   "cell_type": "markdown",
   "metadata": {},
   "source": [
    "gemによるインストール方法は以下の通りである．\n",
    "    1. コマンドラインにてgem install editor_learnerとうち，実行\n",
    "    2. ファイルが自分の.rbenv/versions/2.4.0/lib/ruby/gems/2.4.0/gemsにeditor_learnerが収納される"
   ]
  },
  {
   "cell_type": "markdown",
   "metadata": {},
   "source": [
    "## 使用したgemファイル"
   ]
  },
  {
   "cell_type": "markdown",
   "metadata": {},
   "source": [
    "## diff-lcs"
   ]
  },
  {
   "cell_type": "markdown",
   "metadata": {},
   "source": [
    "diff-lcsは二つのファイルの差分を求めて出力してくれる．テキストの差分を取得するメソッドは,Diff::LCS.sdiff と Diff::LCS.diff の２つがある.複数行の文字列を比較した場合の２つのメソッドの違いは以下のとおり.\n",
    "\n",
    "    1.Diff::LCS.sdiff\n",
    "      比較結果を１文字ずつ表示する\n",
    "    2.Diff::LCS.diff\n",
    "    　比較した結果，違いがあった行について，違いがあった箇所のみ表示する．\n",
    "     \n",
    "今回使用したのは後者である．理由は間違った部分だけを表示した方が見やすいと考えたからである．"
   ]
  },
  {
   "cell_type": "markdown",
   "metadata": {},
   "source": [
    "## Thor"
   ]
  },
  {
   "cell_type": "markdown",
   "metadata": {},
   "source": [
    "Thorは，コマンドラインツールの作成を支援するライブラリです．gitやbundlerのようなサブコマンドツールを簡単に作成することができます．Thorの使用で容易にサブコマンドを直感的に覚えやすくした．"
   ]
  },
  {
   "cell_type": "markdown",
   "metadata": {},
   "source": [
    "## Minitest"
   ]
  },
  {
   "cell_type": "markdown",
   "metadata": {},
   "source": [
    "Minitestはテストを自動化するためのテスト用のフレームワークである．Rubyにはいくつかのテスティングフレームワークがありますが，Minitestというフレームワークを利用した理由は以下の通りです．\n",
    "\n",
    "    1.Rubyをインストールすると一緒にインストールされるため，特別なセットアップが不要．\n",
    "    2.学習コストが比較的低い．\n",
    "    3.Railsのデフォルトのテスティングフレームワークなので，Railsを開発するときにも知識を活かしやすい．"
   ]
  },
  {
   "cell_type": "markdown",
   "metadata": {},
   "source": [
    "## FileUtils"
   ]
  },
  {
   "cell_type": "markdown",
   "metadata": {},
   "source": []
  }
 ],
 "metadata": {
  "kernelspec": {
   "display_name": "Python 3",
   "language": "python",
   "name": "python3"
  },
  "language_info": {
   "codemirror_mode": {
    "name": "ipython",
    "version": 3
   },
   "file_extension": ".py",
   "mimetype": "text/x-python",
   "name": "python",
   "nbconvert_exporter": "python",
   "pygments_lexer": "ipython3",
   "version": "3.6.2"
  },
  "toc": {
   "nav_menu": {},
   "number_sections": true,
   "sideBar": true,
   "skip_h1_title": false,
   "toc_cell": true,
   "toc_position": {},
   "toc_section_display": "block",
   "toc_window_display": true
  }
 },
 "nbformat": 4,
 "nbformat_minor": 2
}
