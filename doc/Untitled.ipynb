{
 "cells": [
  {
   "cell_type": "markdown",
   "metadata": {
    "toc": "true"
   },
   "source": [
    "# Table of Contents\n",
    " <p><div class=\"lev1 toc-item\"><a href=\"#claによるemacs操作習熟プログラム開発\" data-toc-modified-id=\"claによるemacs操作習熟プログラム開発-1\"><span class=\"toc-item-num\">1&nbsp;&nbsp;</span>claによるemacs操作習熟プログラム開発</a></div><div class=\"lev1 toc-item\"><a href=\"#仕様\" data-toc-modified-id=\"仕様-2\"><span class=\"toc-item-num\">2&nbsp;&nbsp;</span>仕様</a></div><div class=\"lev1 toc-item\"><a href=\"#実装のメモ\" data-toc-modified-id=\"実装のメモ-3\"><span class=\"toc-item-num\">3&nbsp;&nbsp;</span>実装のメモ</a></div><div class=\"lev2 toc-item\"><a href=\"#gemno\" data-toc-modified-id=\"gemno-31\"><span class=\"toc-item-num\">3.1&nbsp;&nbsp;</span>gemno</a></div>"
   ]
  },
  {
   "cell_type": "markdown",
   "metadata": {},
   "source": [
    "# claによるemacs操作習熟プログラム開発\n",
    "\n",
    "# 仕様\n",
    "* 特定のdirectoryで立ち上げると\n",
    "* 例題がcopyされる，跡が残るのがいいのでは．．．\n",
    "* emacsで編集して\n",
    "* 時間で評価\n",
    "* 記録は？？"
   ]
  },
  {
   "cell_type": "markdown",
   "metadata": {
    "collapsed": true
   },
   "source": [
    "#  実装のメモ\n",
    "\n",
    "## gemのデフォルト構造\n",
    "gemはdefaultでどこに入る？\n",
    "* gem envでinstall先がわかる\n",
    "* fileを置いておくか？\n",
    "* File.extend_path('../lib',__FILE__)\n",
    "* ENV, cwd\n"
   ]
  },
  {
   "cell_type": "code",
   "execution_count": null,
   "metadata": {
    "collapsed": true
   },
   "outputs": [],
   "source": []
  }
 ],
 "metadata": {
  "kernelspec": {
   "display_name": "Ruby 2.2.2",
   "language": "ruby",
   "name": "ruby"
  },
  "language_info": {
   "file_extension": ".rb",
   "mimetype": "application/x-ruby",
   "name": "ruby",
   "version": "2.2.2"
  },
  "latex_envs": {
   "LaTeX_envs_menu_present": true,
   "autocomplete": true,
   "bibliofile": "biblio.bib",
   "cite_by": "apalike",
   "current_citInitial": 1,
   "eqLabelWithNumbers": true,
   "eqNumInitial": 1,
   "hotkeys": {
    "equation": "Ctrl-E",
    "itemize": "Ctrl-I"
   },
   "labels_anchors": false,
   "latex_user_defs": false,
   "report_style_numbering": false,
   "user_envs_cfg": false
  },
  "toc": {
   "colors": {
    "hover_highlight": "#DAA520",
    "navigate_num": "#000000",
    "navigate_text": "#333333",
    "running_highlight": "#FF0000",
    "selected_highlight": "#FFD700",
    "sidebar_border": "#EEEEEE",
    "wrapper_background": "#FFFFFF"
   },
   "moveMenuLeft": true,
   "nav_menu": {
    "height": "49px",
    "width": "251px"
   },
   "navigate_menu": true,
   "number_sections": true,
   "sideBar": true,
   "threshold": 4,
   "toc_cell": true,
   "toc_section_display": "block",
   "toc_window_display": true,
   "widenNotebook": false
  }
 },
 "nbformat": 4,
 "nbformat_minor": 2
}
